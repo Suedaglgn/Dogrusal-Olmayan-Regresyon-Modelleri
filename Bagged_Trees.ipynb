{
 "cells": [
  {
   "cell_type": "markdown",
   "source": [
    "# Bagged Trees Regresyon"
   ],
   "metadata": {
    "collapsed": false
   }
  },
  {
   "cell_type": "code",
   "execution_count": 1,
   "outputs": [],
   "source": [
    "import numpy as np\n",
    "import pandas as pd\n",
    "from sklearn.model_selection import train_test_split\n",
    "from sklearn.metrics import mean_squared_error\n",
    "from sklearn.model_selection import GridSearchCV\n",
    "from sklearn.ensemble import BaggingRegressor\n",
    "\n",
    "from warnings import filterwarnings\n",
    "filterwarnings('ignore')"
   ],
   "metadata": {
    "collapsed": false
   }
  },
  {
   "cell_type": "code",
   "execution_count": 2,
   "outputs": [],
   "source": [
    "hit = pd.read_csv(\"Hitters.csv\")\n",
    "df = hit.copy()\n",
    "df = df.dropna()\n",
    "dms = pd.get_dummies(df[['League', 'Division', 'NewLeague']])\n",
    "y = df[\"Salary\"]\n",
    "X_ = df.drop(['Salary', 'League', 'Division', 'NewLeague'], axis=1).astype('float64')\n",
    "X = pd.concat([X_, dms[['League_N', 'Division_W', 'NewLeague_N']]], axis=1)\n",
    "X_train, X_test, y_train, y_test = train_test_split(X, y,\n",
    "                                                    test_size=0.25,\n",
    "                                                    random_state=42)\n"
   ],
   "metadata": {
    "collapsed": false
   }
  },
  {
   "cell_type": "code",
   "execution_count": 3,
   "outputs": [
    {
     "data": {
      "text/plain": "BaggingRegressor(bootstrap_features=True)",
      "text/html": "<style>#sk-container-id-1 {color: black;background-color: white;}#sk-container-id-1 pre{padding: 0;}#sk-container-id-1 div.sk-toggleable {background-color: white;}#sk-container-id-1 label.sk-toggleable__label {cursor: pointer;display: block;width: 100%;margin-bottom: 0;padding: 0.3em;box-sizing: border-box;text-align: center;}#sk-container-id-1 label.sk-toggleable__label-arrow:before {content: \"▸\";float: left;margin-right: 0.25em;color: #696969;}#sk-container-id-1 label.sk-toggleable__label-arrow:hover:before {color: black;}#sk-container-id-1 div.sk-estimator:hover label.sk-toggleable__label-arrow:before {color: black;}#sk-container-id-1 div.sk-toggleable__content {max-height: 0;max-width: 0;overflow: hidden;text-align: left;background-color: #f0f8ff;}#sk-container-id-1 div.sk-toggleable__content pre {margin: 0.2em;color: black;border-radius: 0.25em;background-color: #f0f8ff;}#sk-container-id-1 input.sk-toggleable__control:checked~div.sk-toggleable__content {max-height: 200px;max-width: 100%;overflow: auto;}#sk-container-id-1 input.sk-toggleable__control:checked~label.sk-toggleable__label-arrow:before {content: \"▾\";}#sk-container-id-1 div.sk-estimator input.sk-toggleable__control:checked~label.sk-toggleable__label {background-color: #d4ebff;}#sk-container-id-1 div.sk-label input.sk-toggleable__control:checked~label.sk-toggleable__label {background-color: #d4ebff;}#sk-container-id-1 input.sk-hidden--visually {border: 0;clip: rect(1px 1px 1px 1px);clip: rect(1px, 1px, 1px, 1px);height: 1px;margin: -1px;overflow: hidden;padding: 0;position: absolute;width: 1px;}#sk-container-id-1 div.sk-estimator {font-family: monospace;background-color: #f0f8ff;border: 1px dotted black;border-radius: 0.25em;box-sizing: border-box;margin-bottom: 0.5em;}#sk-container-id-1 div.sk-estimator:hover {background-color: #d4ebff;}#sk-container-id-1 div.sk-parallel-item::after {content: \"\";width: 100%;border-bottom: 1px solid gray;flex-grow: 1;}#sk-container-id-1 div.sk-label:hover label.sk-toggleable__label {background-color: #d4ebff;}#sk-container-id-1 div.sk-serial::before {content: \"\";position: absolute;border-left: 1px solid gray;box-sizing: border-box;top: 0;bottom: 0;left: 50%;z-index: 0;}#sk-container-id-1 div.sk-serial {display: flex;flex-direction: column;align-items: center;background-color: white;padding-right: 0.2em;padding-left: 0.2em;position: relative;}#sk-container-id-1 div.sk-item {position: relative;z-index: 1;}#sk-container-id-1 div.sk-parallel {display: flex;align-items: stretch;justify-content: center;background-color: white;position: relative;}#sk-container-id-1 div.sk-item::before, #sk-container-id-1 div.sk-parallel-item::before {content: \"\";position: absolute;border-left: 1px solid gray;box-sizing: border-box;top: 0;bottom: 0;left: 50%;z-index: -1;}#sk-container-id-1 div.sk-parallel-item {display: flex;flex-direction: column;z-index: 1;position: relative;background-color: white;}#sk-container-id-1 div.sk-parallel-item:first-child::after {align-self: flex-end;width: 50%;}#sk-container-id-1 div.sk-parallel-item:last-child::after {align-self: flex-start;width: 50%;}#sk-container-id-1 div.sk-parallel-item:only-child::after {width: 0;}#sk-container-id-1 div.sk-dashed-wrapped {border: 1px dashed gray;margin: 0 0.4em 0.5em 0.4em;box-sizing: border-box;padding-bottom: 0.4em;background-color: white;}#sk-container-id-1 div.sk-label label {font-family: monospace;font-weight: bold;display: inline-block;line-height: 1.2em;}#sk-container-id-1 div.sk-label-container {text-align: center;}#sk-container-id-1 div.sk-container {/* jupyter's `normalize.less` sets `[hidden] { display: none; }` but bootstrap.min.css set `[hidden] { display: none !important; }` so we also need the `!important` here to be able to override the default hidden behavior on the sphinx rendered scikit-learn.org. See: https://github.com/scikit-learn/scikit-learn/issues/21755 */display: inline-block !important;position: relative;}#sk-container-id-1 div.sk-text-repr-fallback {display: none;}</style><div id=\"sk-container-id-1\" class=\"sk-top-container\"><div class=\"sk-text-repr-fallback\"><pre>BaggingRegressor(bootstrap_features=True)</pre><b>In a Jupyter environment, please rerun this cell to show the HTML representation or trust the notebook. <br />On GitHub, the HTML representation is unable to render, please try loading this page with nbviewer.org.</b></div><div class=\"sk-container\" hidden><div class=\"sk-item\"><div class=\"sk-estimator sk-toggleable\"><input class=\"sk-toggleable__control sk-hidden--visually\" id=\"sk-estimator-id-1\" type=\"checkbox\" checked><label for=\"sk-estimator-id-1\" class=\"sk-toggleable__label sk-toggleable__label-arrow\">BaggingRegressor</label><div class=\"sk-toggleable__content\"><pre>BaggingRegressor(bootstrap_features=True)</pre></div></div></div></div></div>"
     },
     "execution_count": 3,
     "metadata": {},
     "output_type": "execute_result"
    }
   ],
   "source": [
    "bag_model = BaggingRegressor(bootstrap_features = True)\n",
    "bag_model.fit(X_train, y_train)"
   ],
   "metadata": {
    "collapsed": false
   }
  },
  {
   "cell_type": "code",
   "execution_count": 4,
   "outputs": [
    {
     "data": {
      "text/plain": "10"
     },
     "execution_count": 4,
     "metadata": {},
     "output_type": "execute_result"
    }
   ],
   "source": [
    "bag_model.n_estimators"
   ],
   "metadata": {
    "collapsed": false
   }
  },
  {
   "cell_type": "code",
   "execution_count": 5,
   "outputs": [
    {
     "data": {
      "text/plain": "[DecisionTreeRegressor(random_state=1423900827),\n DecisionTreeRegressor(random_state=1541023650),\n DecisionTreeRegressor(random_state=416591490),\n DecisionTreeRegressor(random_state=675788198),\n DecisionTreeRegressor(random_state=2104356656),\n DecisionTreeRegressor(random_state=1434083539),\n DecisionTreeRegressor(random_state=6966602),\n DecisionTreeRegressor(random_state=1389032533),\n DecisionTreeRegressor(random_state=1269174051),\n DecisionTreeRegressor(random_state=1466224086)]"
     },
     "execution_count": 5,
     "metadata": {},
     "output_type": "execute_result"
    }
   ],
   "source": [
    "bag_model.estimators_"
   ],
   "metadata": {
    "collapsed": false
   }
  },
  {
   "cell_type": "code",
   "execution_count": 6,
   "outputs": [
    {
     "data": {
      "text/plain": "[array([136,  55,  52,  81, 171,  63,  56,  86,  30, 157, 160,  59, 196,\n        181,  88, 163, 186, 184,  97,   6,  18,  78, 118,  67, 181, 124,\n         81,  61,  74,  45,   7,  57,  15, 194,  16,   7,  94, 168,  59,\n        149,  99,  99, 155,  80,  33,  42,  69, 160, 189, 145,  25,  11,\n        188,  17, 164,  46, 147,  42,  33, 118,   2, 115, 157, 170, 173,\n        174,   8, 185,  94,  79,  69, 192,   5,  49,  99,   8, 132, 139,\n        102, 169, 137, 138,   9, 187,  58, 152, 151, 117, 157,  23, 157,\n        156, 174, 150, 102, 154,  97,  19,  33, 135, 165, 126,  28,  32,\n        181, 184, 151,  74,  15,  45,  93,  74, 152, 107, 186,  39,  66,\n          7,  13, 149, 181, 135,  75,  23,  33,   5, 128, 116,  65,  29,\n         60,  85, 184, 121,   8, 126, 110, 104,  39, 144,   2,  58,  55,\n        161,  57,  15,  40, 147, 168,  69,  54,  80,  86,  67,  47,  26,\n          5, 131, 135,   6,  68, 115,  38,  53, 104, 151,  25,   4,   6,\n         40, 187,  70, 117,  14,   6, 112, 143,  26, 122, 178, 196,  31,\n        188,  42, 130,  47, 117, 169,  72, 187, 132,  52, 188, 171, 128,\n        192,  11]),\n array([ 45,  87,  29,  12, 181, 117, 117, 134,  26, 122,  24,  62,  62,\n         89, 186,  59,  56, 194, 127, 152, 187,  46,  75,  83, 130,  45,\n         51,   4, 111,  96,  84,  48,  84, 111, 180,  83, 190, 171, 118,\n         71,  51,  31,  18,  60, 122,  59,  99,   6, 130,  34, 108, 173,\n        167,  49,  69, 188,  90, 112,  14,  33,  57, 166,   3, 141,  39,\n         26, 113,  32, 170, 189, 126,  70,  18, 143,  65, 192,  26,  32,\n         77,  82, 118, 109,  88,  88,  78, 132,  89,  50,  93,  50, 182,\n        174,   2, 149,  10,  12, 103,  72,  51,  92, 151, 134, 193,  71,\n        186, 156,  51, 136, 121,  40,  54, 114, 129, 173,  69,  43, 120,\n        151, 137, 140,  38,  57,  78, 184, 117, 179, 113,  25, 181, 150,\n         55,  88,  63, 111,  57, 156, 135,  93,  48,  79, 127, 186,  67,\n        165,  26,  59,  30, 169, 110,  74,  50,  34,  82, 195,  89, 136,\n        133,   0,  86, 123,  71,   6, 134,  74,   9,  83, 165, 104,  24,\n         96, 188, 158,  98, 195, 166,  19, 175,  58,   2, 196, 157, 155,\n        100,  60, 190,  21,   8,  44, 155,  14, 127, 133, 158, 190,  56,\n        170,  60]),\n array([174,  83,  20,  94,  74,  43,  47, 120, 112, 108,  80, 109, 112,\n         91,  87, 172, 146, 165,  97, 180,  39,  69, 120,  87,  30, 150,\n        101,  40,  92, 105,  69, 136, 113,  67,  97,  30,  22,  88,  61,\n         97, 187, 191, 114,  77, 191,  26, 102,  73, 157,  89, 171,   6,\n         72,  60,  71,  25,  84,  15,  83, 144, 157,  25, 146, 180, 155,\n         49, 110,  76,  15,  91,  26, 193,  78,  20, 139,  20, 113,  54,\n        124,  10, 154,  94, 116,  67, 152,   7, 141,   2, 125, 152, 152,\n          4,  88, 196,  45,  86, 134, 179, 162, 162,   4, 107, 176,  54,\n         72, 187,  47,  50,   7,  37,  91, 153,  51, 143,   6, 153,  41,\n         56, 165,  54, 161, 148,  82,  69, 182, 151,  31,  25, 122, 180,\n         12, 153, 144,  18,  91, 190, 183, 158,  98, 142, 166, 190,  83,\n        104,  32,  25,  98,  91, 147,  33, 139,  22, 138,  19,  80, 118,\n         47, 161,  14, 140, 127, 175,  72, 103, 129, 146, 189,  41, 176,\n         69, 120, 110,  46,  57, 150,  67, 136, 128, 131,  75,  60,  45,\n         70,  48,  25, 143, 156, 181,   2,  27,  17, 172,  45, 183,  77,\n         40,  95]),\n array([ 58,  68,  15,  12,  18,  96, 153,  35,  55, 141, 173, 101,  53,\n         15, 143, 107,  90,  99,  90, 135, 171,  29, 147, 143, 139,  95,\n        100, 182,  37,  90, 142, 122,  39,  42,  84,  54, 156, 161,  14,\n        115,  74,  96,  78,  55, 172,  56, 141,  17, 106,  23,  56,  36,\n         30,  84, 142, 151, 151, 115, 102, 161,  67, 183,  79,  36, 104,\n        102, 160,  82,  47,  42,  30, 159,  34,  28,  65, 125, 125, 153,\n         60, 119,  25, 100,  85, 138, 131, 106, 119,  63, 181,  76,   5,\n         84,  65,  55,  78,  62,  40, 111, 146,  98,  43, 191, 159, 184,\n         98,  72,  79,  17, 169, 130,  79,  31,  34,  76,  10, 195, 129,\n          6,  72, 173,  72,   7, 136, 113, 146, 183, 168,  57,   8, 127,\n        133, 136, 173,  88, 136, 194, 100, 118, 137, 107,  27, 179,  60,\n         12, 141, 143, 131, 184,  11,  63, 165,  68, 137,  73,  93, 191,\n          7,  58,  16, 187,  37,  38,  60,  38, 167,  25,  79,  98,  49,\n        137,  80, 105, 175,  98, 117,  69, 194, 101,  47,   9, 154, 172,\n        131,  24,  39, 110, 101,  69,  32, 100, 151,  86,  44,  78,  89,\n         58, 152]),\n array([ 69, 192,  58,  49, 130, 104,  69, 194, 194,  19, 189,  66, 150,\n         77, 141,  47, 162, 146, 153,   4, 159, 173,  80, 148,  66,  74,\n        130, 118,  95, 147, 143, 193, 100, 195,  64,  51,  17, 141, 188,\n        191, 165,  63, 138,  72,  44, 102,  25, 186, 158,  15,  75, 139,\n        174, 183,  91, 161, 159,  23,  76, 133,  68, 193,  28,  80, 133,\n         23, 157, 174, 169,   5,  54,  20, 156, 120,  13, 169,  37,  30,\n        101, 116, 149,  24, 183, 159, 107,  44,  11,  34,  27,  23, 129,\n         65,   8, 150,  25,  61,   6, 105,  98, 194,  68, 180, 119, 155,\n        158, 145, 165, 127, 194,   1, 183, 117,  17, 147, 172,  11, 145,\n         12, 141, 190, 127, 166,  67,   9,  20, 163, 156,  71,  69,  35,\n        127, 195,  98,   7,  67,  81,   3, 166, 185, 162,   3, 109,  23,\n        127,  82, 166, 190,  89, 108,  21, 166, 103,  33,  44, 116,  99,\n        138, 104, 123, 185,  90, 147,   8, 182, 144,  67, 159,  66,  80,\n        153,  93,  44, 143,  76,  13,  79,  69, 167,  75, 134,  73,  12,\n         69,  76,  33, 134, 108,  96,  58,  40, 165, 114, 107,  59, 138,\n        169, 123]),\n array([171, 134,   8, 185,  45,  61,  93, 160, 188, 189, 146, 193,  59,\n         29,   3,   2,  69, 190, 110, 170,  37, 132,   1,  84,  10,  52,\n        145, 148,  26, 186, 126,  40,  48, 139,   7,  20, 170,  13,  90,\n        148,  43,   5, 160, 194, 121,  59,  28, 130,  10,  51,  45,  43,\n         85, 140, 160,  92, 175, 119,  50, 132,  17, 149, 170,  27, 117,\n         15,  39,  34, 135, 123,  64,  42,  71, 135,  81, 154,  99,  77,\n         39,  24,  48, 156, 155,  76,  71,  54,  96,  83, 185,   2,   8,\n         88, 150, 115, 112, 141,  19, 192, 129,  56, 113, 130,  65, 168,\n        104, 131, 136, 127, 166,  98,  14, 131,  62, 117,  91, 119,  79,\n         78, 163, 104, 116, 104,  13,  93,  20,  82, 131,  25, 147,  30,\n        156,  98,  45,  18, 152,  14, 112,  11,  62,  67,  23, 185, 107,\n          0, 177, 160,  58, 152, 137, 179,  35, 193, 175,  14, 138,  27,\n        145,  22,  71, 103,  11, 140,  20,  99, 151,  37,  55, 152, 171,\n         65, 112, 139, 153, 120,  90, 145, 157, 106,  63, 138,  57,  89,\n         72, 195,  42,  69, 140, 136,  64, 143,  55, 121,  16, 164, 116,\n         42,  22]),\n array([177, 105,  97,  85,  88,  72,   6, 107, 191,  36,  72,  23,   0,\n         56, 137,  79, 161,  41, 114,  57,  15,  30, 103, 126,  14, 171,\n         21, 195,  98, 128, 107, 130, 123,   1, 159, 108, 104,  25, 162,\n         82, 171, 135,  68, 190, 162, 117, 141,  85, 170,  43, 110,  81,\n         32,  63, 141, 169, 107, 107, 162, 107,  92,  29, 116,  77, 175,\n        102,  52,  46,  48,  25,  22,  30,  10, 118,   1,  41, 171, 196,\n         87, 146, 112,  74, 104,  20,  56, 144, 124,   4, 163,  28, 125,\n         43,  91,  76,  93, 145, 147, 157,  42,  79, 161,   9,   3,  46,\n         83, 108,  35,   2,  48, 123, 140, 107,  75,  58, 189, 128,  68,\n        144, 183, 186, 114, 102, 179,   1, 127, 164,   4, 192, 143, 142,\n         38,   9,  71, 103,  41,  75, 192, 136, 149,  67,  27,  84,  70,\n         58, 165, 117,  38,  54,  73, 101, 134,  65, 156,  52,  41, 113,\n         65, 160,  88,  41,  52, 101, 192,  35,  11, 168, 171,  96, 181,\n         13, 173, 134, 177, 187, 100,   1,  15,  85, 193, 132,   4,  47,\n         71,  63,  96, 190, 144, 116, 118, 131, 183,   9, 173,  64, 177,\n          0, 171]),\n array([ 69, 124, 104,   3,  41, 101,  11, 151, 140,  86,  90,  54,  18,\n         90, 184, 112,  39,  26, 112, 148,  73,   0,  22,  40,  84, 190,\n        169,  75, 157, 134,  58, 102, 113, 162,  54,  43,  11,  72, 116,\n         19, 153,  64,  61, 139, 174,   6,  93,  55, 153, 107, 188, 174,\n        192, 156, 191, 114, 172, 168, 102, 143,  32,  30,  25, 111, 167,\n        181,  29,  94, 173,  18,  23, 187, 136,  84,  86, 114,  57,  45,\n        106,  24,  77,  74,  22, 165, 190,  78, 195,  72, 194,  35, 114,\n        184, 134, 152, 183, 181,  87, 137,  15, 117, 108, 153,  58, 137,\n         82, 147, 169, 122,  96,  52, 177,  20,  59,  42,  54, 190,   1,\n          6,  53,  46,  92, 120, 112,  80, 121, 157, 155,  51, 151, 132,\n        137, 163, 153, 196,  85,  33, 147,  81,   3, 163,  21,  53,  49,\n        170,  55, 111, 100, 157, 131,  29,   0, 159, 149,  36,  98, 118,\n         42,  77,  38,  75,  45,  36,  67, 172, 156,  43,  61, 192,  97,\n        154, 155,  81,  66,  56, 161, 183, 164, 147,  88, 139, 195, 106,\n        157,  96,  27, 117,   2, 111, 180,  82,  99, 152, 167, 113, 102,\n        175,  64]),\n array([ 56, 114,  24, 146, 184,  40,  66, 128,  76, 114, 169,  53,  23,\n          5,   5,  88,  65, 191,  63,  16,  68, 189,  76, 147,  15,  31,\n        192,  69,  99,  86,  89,  78, 148, 117, 169,  57, 151,  12,  27,\n          6, 129, 102,  38,   9, 194, 130, 195, 170, 153,  97,  10, 109,\n        181, 116,   6,  96, 105, 186, 117,  96, 152,  98,   7,  80,  16,\n         84,  86, 183,  23, 130,  40,  71,  63, 145, 125,  28,  33,  81,\n        181,  12,  62,   6, 133, 159, 135,  47, 124, 147, 185,  98,  44,\n        183,  81, 161,  18, 179, 175, 168, 158,  16, 159, 137, 184, 191,\n         61, 114,  76,  24, 109,  41, 123,  14,  20,  78, 150, 186, 164,\n        106,  87,  61, 184, 122,  32, 124,  50,  58, 166, 146,  30,  60,\n        146,  79,  99, 108, 131,  99,  76,  12, 116, 123,  97, 155, 160,\n         48,  47,  73,  96,  60,  98,  88,  15, 168,  13,  12, 141,  46,\n         78,  30,  56,  44,  18, 107, 141, 163, 113, 139, 133,   0, 180,\n         24,  53,  24,  58,  48, 181, 148,  78,  96,  98,  60,   3, 110,\n          0, 187,  36, 136,  31,  16, 170,  14,  88, 158,  58,  87, 129,\n         66,  27]),\n array([186, 194,  38, 149, 162, 112, 108,  10, 122,  27, 140, 154, 103,\n        142,  72,  19,  73,  61,  41, 180, 112,  74,  89, 130, 165, 133,\n          3, 174, 177, 104, 161, 193,  72, 132,  38,  84, 166, 160,  23,\n        161, 189, 130, 125,  77,  75, 109, 148, 191, 128,  71,  87, 100,\n        106,  19, 168, 162, 196, 182, 149, 184,  34, 188, 183,  91, 111,\n        123,  26, 147,  48,   7, 140, 191, 162,   8,  40,  52,  55,  10,\n         87,  42, 166,  59,  59, 180,  87, 187,  20,  28, 187,  14, 120,\n        176, 133, 140, 164, 147, 139,  51,  20, 185, 152,  90, 167,  33,\n        112,  27,  25,  32, 108,   0, 120, 145, 121,  62, 111, 156, 162,\n         53, 186, 115, 129, 192,  53,  99,   8, 126,   0, 179,  53, 128,\n        196, 120, 174, 168,  29,  84, 179,  14,  90,  11, 165,  95,   6,\n        136, 136,  49,  71, 158, 119,  84, 117,  63, 182, 169, 124,  58,\n        153,  89, 185,  93, 125,  48, 144,  57, 172, 181,  73,  11, 125,\n         38,  16, 170, 109, 159,  65,  35,  55, 153,  15, 172, 130,  32,\n         11,  19, 185, 127, 150,  83,  88,  64,  67,  73,  31, 159, 160,\n         42,   6])]"
     },
     "execution_count": 6,
     "metadata": {},
     "output_type": "execute_result"
    }
   ],
   "source": [
    "bag_model.estimators_samples_"
   ],
   "metadata": {
    "collapsed": false
   }
  },
  {
   "cell_type": "code",
   "execution_count": 7,
   "outputs": [
    {
     "data": {
      "text/plain": "[array([ 5, 15, 16,  0,  7, 14,  2, 18,  3,  6, 13, 10,  2,  9, 10, 15, 15,\n         1,  5]),\n array([ 2,  2, 18,  4, 14,  3, 17, 17, 16,  0,  0,  6,  7,  4, 14, 15, 10,\n        14, 11]),\n array([ 2, 16,  9, 12, 11, 18, 17,  9,  9,  9,  1,  0, 12,  4,  4,  1,  5,\n        17, 13]),\n array([ 6, 12,  1, 17, 11,  7, 17,  4, 13, 18,  7, 17,  1,  9,  3, 13, 16,\n        16,  1]),\n array([16, 15,  7,  8,  2,  4, 17, 16, 16, 18,  2,  7, 15,  2,  4,  7, 16,\n         4, 16]),\n array([ 1, 11, 14,  9,  7, 11, 12, 14,  1,  2,  4,  9, 18, 16,  0, 17,  2,\n         4,  9]),\n array([10,  9, 16,  4,  6,  3,  8,  0, 17,  8,  1,  3, 14,  4, 10,  4,  4,\n         8, 10]),\n array([ 9, 10, 10,  4,  7,  7,  0,  8, 14,  4,  2, 16, 11, 13,  7, 17, 15,\n        14, 17]),\n array([ 3, 13,  5, 10, 10,  0,  3, 12, 14,  7,  8,  0,  4,  8,  6,  4, 17,\n         4, 18]),\n array([13, 15, 16,  0, 11, 17,  0, 13,  3,  0,  1, 13,  2,  7, 15,  9,  4,\n        11,  6])]"
     },
     "execution_count": 7,
     "metadata": {},
     "output_type": "execute_result"
    }
   ],
   "source": [
    "bag_model.estimators_features_"
   ],
   "metadata": {
    "collapsed": false
   }
  },
  {
   "cell_type": "code",
   "execution_count": 8,
   "outputs": [
    {
     "data": {
      "text/plain": "DecisionTreeRegressor(random_state=1541023650)",
      "text/html": "<style>#sk-container-id-2 {color: black;background-color: white;}#sk-container-id-2 pre{padding: 0;}#sk-container-id-2 div.sk-toggleable {background-color: white;}#sk-container-id-2 label.sk-toggleable__label {cursor: pointer;display: block;width: 100%;margin-bottom: 0;padding: 0.3em;box-sizing: border-box;text-align: center;}#sk-container-id-2 label.sk-toggleable__label-arrow:before {content: \"▸\";float: left;margin-right: 0.25em;color: #696969;}#sk-container-id-2 label.sk-toggleable__label-arrow:hover:before {color: black;}#sk-container-id-2 div.sk-estimator:hover label.sk-toggleable__label-arrow:before {color: black;}#sk-container-id-2 div.sk-toggleable__content {max-height: 0;max-width: 0;overflow: hidden;text-align: left;background-color: #f0f8ff;}#sk-container-id-2 div.sk-toggleable__content pre {margin: 0.2em;color: black;border-radius: 0.25em;background-color: #f0f8ff;}#sk-container-id-2 input.sk-toggleable__control:checked~div.sk-toggleable__content {max-height: 200px;max-width: 100%;overflow: auto;}#sk-container-id-2 input.sk-toggleable__control:checked~label.sk-toggleable__label-arrow:before {content: \"▾\";}#sk-container-id-2 div.sk-estimator input.sk-toggleable__control:checked~label.sk-toggleable__label {background-color: #d4ebff;}#sk-container-id-2 div.sk-label input.sk-toggleable__control:checked~label.sk-toggleable__label {background-color: #d4ebff;}#sk-container-id-2 input.sk-hidden--visually {border: 0;clip: rect(1px 1px 1px 1px);clip: rect(1px, 1px, 1px, 1px);height: 1px;margin: -1px;overflow: hidden;padding: 0;position: absolute;width: 1px;}#sk-container-id-2 div.sk-estimator {font-family: monospace;background-color: #f0f8ff;border: 1px dotted black;border-radius: 0.25em;box-sizing: border-box;margin-bottom: 0.5em;}#sk-container-id-2 div.sk-estimator:hover {background-color: #d4ebff;}#sk-container-id-2 div.sk-parallel-item::after {content: \"\";width: 100%;border-bottom: 1px solid gray;flex-grow: 1;}#sk-container-id-2 div.sk-label:hover label.sk-toggleable__label {background-color: #d4ebff;}#sk-container-id-2 div.sk-serial::before {content: \"\";position: absolute;border-left: 1px solid gray;box-sizing: border-box;top: 0;bottom: 0;left: 50%;z-index: 0;}#sk-container-id-2 div.sk-serial {display: flex;flex-direction: column;align-items: center;background-color: white;padding-right: 0.2em;padding-left: 0.2em;position: relative;}#sk-container-id-2 div.sk-item {position: relative;z-index: 1;}#sk-container-id-2 div.sk-parallel {display: flex;align-items: stretch;justify-content: center;background-color: white;position: relative;}#sk-container-id-2 div.sk-item::before, #sk-container-id-2 div.sk-parallel-item::before {content: \"\";position: absolute;border-left: 1px solid gray;box-sizing: border-box;top: 0;bottom: 0;left: 50%;z-index: -1;}#sk-container-id-2 div.sk-parallel-item {display: flex;flex-direction: column;z-index: 1;position: relative;background-color: white;}#sk-container-id-2 div.sk-parallel-item:first-child::after {align-self: flex-end;width: 50%;}#sk-container-id-2 div.sk-parallel-item:last-child::after {align-self: flex-start;width: 50%;}#sk-container-id-2 div.sk-parallel-item:only-child::after {width: 0;}#sk-container-id-2 div.sk-dashed-wrapped {border: 1px dashed gray;margin: 0 0.4em 0.5em 0.4em;box-sizing: border-box;padding-bottom: 0.4em;background-color: white;}#sk-container-id-2 div.sk-label label {font-family: monospace;font-weight: bold;display: inline-block;line-height: 1.2em;}#sk-container-id-2 div.sk-label-container {text-align: center;}#sk-container-id-2 div.sk-container {/* jupyter's `normalize.less` sets `[hidden] { display: none; }` but bootstrap.min.css set `[hidden] { display: none !important; }` so we also need the `!important` here to be able to override the default hidden behavior on the sphinx rendered scikit-learn.org. See: https://github.com/scikit-learn/scikit-learn/issues/21755 */display: inline-block !important;position: relative;}#sk-container-id-2 div.sk-text-repr-fallback {display: none;}</style><div id=\"sk-container-id-2\" class=\"sk-top-container\"><div class=\"sk-text-repr-fallback\"><pre>DecisionTreeRegressor(random_state=1541023650)</pre><b>In a Jupyter environment, please rerun this cell to show the HTML representation or trust the notebook. <br />On GitHub, the HTML representation is unable to render, please try loading this page with nbviewer.org.</b></div><div class=\"sk-container\" hidden><div class=\"sk-item\"><div class=\"sk-estimator sk-toggleable\"><input class=\"sk-toggleable__control sk-hidden--visually\" id=\"sk-estimator-id-2\" type=\"checkbox\" checked><label for=\"sk-estimator-id-2\" class=\"sk-toggleable__label sk-toggleable__label-arrow\">DecisionTreeRegressor</label><div class=\"sk-toggleable__content\"><pre>DecisionTreeRegressor(random_state=1541023650)</pre></div></div></div></div></div>"
     },
     "execution_count": 8,
     "metadata": {},
     "output_type": "execute_result"
    }
   ],
   "source": [
    "bag_model.estimators_[1]"
   ],
   "metadata": {
    "collapsed": false
   }
  },
  {
   "cell_type": "markdown",
   "source": [
    "## Tahmin"
   ],
   "metadata": {
    "collapsed": false
   }
  },
  {
   "cell_type": "code",
   "execution_count": 9,
   "outputs": [],
   "source": [
    "y_pred = bag_model.predict(X_test)"
   ],
   "metadata": {
    "collapsed": false
   }
  },
  {
   "cell_type": "code",
   "execution_count": 10,
   "outputs": [
    {
     "data": {
      "text/plain": "347.0706680002063"
     },
     "execution_count": 10,
     "metadata": {},
     "output_type": "execute_result"
    }
   ],
   "source": [
    "np.sqrt(mean_squared_error(y_test, y_pred))"
   ],
   "metadata": {
    "collapsed": false
   }
  },
  {
   "cell_type": "code",
   "execution_count": 11,
   "outputs": [],
   "source": [
    "iki_y_pred = bag_model.estimators_[1].fit(X_train, y_train).predict(X_test)"
   ],
   "metadata": {
    "collapsed": false
   }
  },
  {
   "cell_type": "code",
   "execution_count": 12,
   "outputs": [
    {
     "data": {
      "text/plain": "530.3097597317463"
     },
     "execution_count": 12,
     "metadata": {},
     "output_type": "execute_result"
    }
   ],
   "source": [
    "np.sqrt(mean_squared_error(y_test, iki_y_pred))"
   ],
   "metadata": {
    "collapsed": false
   }
  },
  {
   "cell_type": "code",
   "execution_count": 13,
   "outputs": [],
   "source": [
    "yedi_y_pred = bag_model.estimators_[4].fit(X_train, y_train).predict(X_test)"
   ],
   "metadata": {
    "collapsed": false
   }
  },
  {
   "cell_type": "code",
   "execution_count": 14,
   "outputs": [
    {
     "data": {
      "text/plain": "533.6905744009862"
     },
     "execution_count": 14,
     "metadata": {},
     "output_type": "execute_result"
    }
   ],
   "source": [
    "np.sqrt(mean_squared_error(y_test, yedi_y_pred))"
   ],
   "metadata": {
    "collapsed": false
   }
  },
  {
   "cell_type": "markdown",
   "source": [
    "# Model Tuning"
   ],
   "metadata": {
    "collapsed": false
   }
  },
  {
   "cell_type": "code",
   "execution_count": 15,
   "outputs": [
    {
     "data": {
      "text/plain": "BaggingRegressor(bootstrap_features=True)",
      "text/html": "<style>#sk-container-id-3 {color: black;background-color: white;}#sk-container-id-3 pre{padding: 0;}#sk-container-id-3 div.sk-toggleable {background-color: white;}#sk-container-id-3 label.sk-toggleable__label {cursor: pointer;display: block;width: 100%;margin-bottom: 0;padding: 0.3em;box-sizing: border-box;text-align: center;}#sk-container-id-3 label.sk-toggleable__label-arrow:before {content: \"▸\";float: left;margin-right: 0.25em;color: #696969;}#sk-container-id-3 label.sk-toggleable__label-arrow:hover:before {color: black;}#sk-container-id-3 div.sk-estimator:hover label.sk-toggleable__label-arrow:before {color: black;}#sk-container-id-3 div.sk-toggleable__content {max-height: 0;max-width: 0;overflow: hidden;text-align: left;background-color: #f0f8ff;}#sk-container-id-3 div.sk-toggleable__content pre {margin: 0.2em;color: black;border-radius: 0.25em;background-color: #f0f8ff;}#sk-container-id-3 input.sk-toggleable__control:checked~div.sk-toggleable__content {max-height: 200px;max-width: 100%;overflow: auto;}#sk-container-id-3 input.sk-toggleable__control:checked~label.sk-toggleable__label-arrow:before {content: \"▾\";}#sk-container-id-3 div.sk-estimator input.sk-toggleable__control:checked~label.sk-toggleable__label {background-color: #d4ebff;}#sk-container-id-3 div.sk-label input.sk-toggleable__control:checked~label.sk-toggleable__label {background-color: #d4ebff;}#sk-container-id-3 input.sk-hidden--visually {border: 0;clip: rect(1px 1px 1px 1px);clip: rect(1px, 1px, 1px, 1px);height: 1px;margin: -1px;overflow: hidden;padding: 0;position: absolute;width: 1px;}#sk-container-id-3 div.sk-estimator {font-family: monospace;background-color: #f0f8ff;border: 1px dotted black;border-radius: 0.25em;box-sizing: border-box;margin-bottom: 0.5em;}#sk-container-id-3 div.sk-estimator:hover {background-color: #d4ebff;}#sk-container-id-3 div.sk-parallel-item::after {content: \"\";width: 100%;border-bottom: 1px solid gray;flex-grow: 1;}#sk-container-id-3 div.sk-label:hover label.sk-toggleable__label {background-color: #d4ebff;}#sk-container-id-3 div.sk-serial::before {content: \"\";position: absolute;border-left: 1px solid gray;box-sizing: border-box;top: 0;bottom: 0;left: 50%;z-index: 0;}#sk-container-id-3 div.sk-serial {display: flex;flex-direction: column;align-items: center;background-color: white;padding-right: 0.2em;padding-left: 0.2em;position: relative;}#sk-container-id-3 div.sk-item {position: relative;z-index: 1;}#sk-container-id-3 div.sk-parallel {display: flex;align-items: stretch;justify-content: center;background-color: white;position: relative;}#sk-container-id-3 div.sk-item::before, #sk-container-id-3 div.sk-parallel-item::before {content: \"\";position: absolute;border-left: 1px solid gray;box-sizing: border-box;top: 0;bottom: 0;left: 50%;z-index: -1;}#sk-container-id-3 div.sk-parallel-item {display: flex;flex-direction: column;z-index: 1;position: relative;background-color: white;}#sk-container-id-3 div.sk-parallel-item:first-child::after {align-self: flex-end;width: 50%;}#sk-container-id-3 div.sk-parallel-item:last-child::after {align-self: flex-start;width: 50%;}#sk-container-id-3 div.sk-parallel-item:only-child::after {width: 0;}#sk-container-id-3 div.sk-dashed-wrapped {border: 1px dashed gray;margin: 0 0.4em 0.5em 0.4em;box-sizing: border-box;padding-bottom: 0.4em;background-color: white;}#sk-container-id-3 div.sk-label label {font-family: monospace;font-weight: bold;display: inline-block;line-height: 1.2em;}#sk-container-id-3 div.sk-label-container {text-align: center;}#sk-container-id-3 div.sk-container {/* jupyter's `normalize.less` sets `[hidden] { display: none; }` but bootstrap.min.css set `[hidden] { display: none !important; }` so we also need the `!important` here to be able to override the default hidden behavior on the sphinx rendered scikit-learn.org. See: https://github.com/scikit-learn/scikit-learn/issues/21755 */display: inline-block !important;position: relative;}#sk-container-id-3 div.sk-text-repr-fallback {display: none;}</style><div id=\"sk-container-id-3\" class=\"sk-top-container\"><div class=\"sk-text-repr-fallback\"><pre>BaggingRegressor(bootstrap_features=True)</pre><b>In a Jupyter environment, please rerun this cell to show the HTML representation or trust the notebook. <br />On GitHub, the HTML representation is unable to render, please try loading this page with nbviewer.org.</b></div><div class=\"sk-container\" hidden><div class=\"sk-item\"><div class=\"sk-estimator sk-toggleable\"><input class=\"sk-toggleable__control sk-hidden--visually\" id=\"sk-estimator-id-3\" type=\"checkbox\" checked><label for=\"sk-estimator-id-3\" class=\"sk-toggleable__label sk-toggleable__label-arrow\">BaggingRegressor</label><div class=\"sk-toggleable__content\"><pre>BaggingRegressor(bootstrap_features=True)</pre></div></div></div></div></div>"
     },
     "execution_count": 15,
     "metadata": {},
     "output_type": "execute_result"
    }
   ],
   "source": [
    "bag_model = BaggingRegressor(bootstrap_features = True)\n",
    "bag_model.fit(X_train, y_train)"
   ],
   "metadata": {
    "collapsed": false
   }
  },
  {
   "cell_type": "code",
   "execution_count": 16,
   "outputs": [],
   "source": [
    "bag_params = {\"n_estimators\": range(2,20)}"
   ],
   "metadata": {
    "collapsed": false
   }
  },
  {
   "cell_type": "code",
   "execution_count": 17,
   "outputs": [],
   "source": [
    "bag_cv_model = GridSearchCV(bag_model, bag_params, cv = 10)"
   ],
   "metadata": {
    "collapsed": false
   }
  },
  {
   "cell_type": "code",
   "execution_count": 18,
   "outputs": [
    {
     "data": {
      "text/plain": "GridSearchCV(cv=10, estimator=BaggingRegressor(bootstrap_features=True),\n             param_grid={'n_estimators': range(2, 20)})",
      "text/html": "<style>#sk-container-id-4 {color: black;background-color: white;}#sk-container-id-4 pre{padding: 0;}#sk-container-id-4 div.sk-toggleable {background-color: white;}#sk-container-id-4 label.sk-toggleable__label {cursor: pointer;display: block;width: 100%;margin-bottom: 0;padding: 0.3em;box-sizing: border-box;text-align: center;}#sk-container-id-4 label.sk-toggleable__label-arrow:before {content: \"▸\";float: left;margin-right: 0.25em;color: #696969;}#sk-container-id-4 label.sk-toggleable__label-arrow:hover:before {color: black;}#sk-container-id-4 div.sk-estimator:hover label.sk-toggleable__label-arrow:before {color: black;}#sk-container-id-4 div.sk-toggleable__content {max-height: 0;max-width: 0;overflow: hidden;text-align: left;background-color: #f0f8ff;}#sk-container-id-4 div.sk-toggleable__content pre {margin: 0.2em;color: black;border-radius: 0.25em;background-color: #f0f8ff;}#sk-container-id-4 input.sk-toggleable__control:checked~div.sk-toggleable__content {max-height: 200px;max-width: 100%;overflow: auto;}#sk-container-id-4 input.sk-toggleable__control:checked~label.sk-toggleable__label-arrow:before {content: \"▾\";}#sk-container-id-4 div.sk-estimator input.sk-toggleable__control:checked~label.sk-toggleable__label {background-color: #d4ebff;}#sk-container-id-4 div.sk-label input.sk-toggleable__control:checked~label.sk-toggleable__label {background-color: #d4ebff;}#sk-container-id-4 input.sk-hidden--visually {border: 0;clip: rect(1px 1px 1px 1px);clip: rect(1px, 1px, 1px, 1px);height: 1px;margin: -1px;overflow: hidden;padding: 0;position: absolute;width: 1px;}#sk-container-id-4 div.sk-estimator {font-family: monospace;background-color: #f0f8ff;border: 1px dotted black;border-radius: 0.25em;box-sizing: border-box;margin-bottom: 0.5em;}#sk-container-id-4 div.sk-estimator:hover {background-color: #d4ebff;}#sk-container-id-4 div.sk-parallel-item::after {content: \"\";width: 100%;border-bottom: 1px solid gray;flex-grow: 1;}#sk-container-id-4 div.sk-label:hover label.sk-toggleable__label {background-color: #d4ebff;}#sk-container-id-4 div.sk-serial::before {content: \"\";position: absolute;border-left: 1px solid gray;box-sizing: border-box;top: 0;bottom: 0;left: 50%;z-index: 0;}#sk-container-id-4 div.sk-serial {display: flex;flex-direction: column;align-items: center;background-color: white;padding-right: 0.2em;padding-left: 0.2em;position: relative;}#sk-container-id-4 div.sk-item {position: relative;z-index: 1;}#sk-container-id-4 div.sk-parallel {display: flex;align-items: stretch;justify-content: center;background-color: white;position: relative;}#sk-container-id-4 div.sk-item::before, #sk-container-id-4 div.sk-parallel-item::before {content: \"\";position: absolute;border-left: 1px solid gray;box-sizing: border-box;top: 0;bottom: 0;left: 50%;z-index: -1;}#sk-container-id-4 div.sk-parallel-item {display: flex;flex-direction: column;z-index: 1;position: relative;background-color: white;}#sk-container-id-4 div.sk-parallel-item:first-child::after {align-self: flex-end;width: 50%;}#sk-container-id-4 div.sk-parallel-item:last-child::after {align-self: flex-start;width: 50%;}#sk-container-id-4 div.sk-parallel-item:only-child::after {width: 0;}#sk-container-id-4 div.sk-dashed-wrapped {border: 1px dashed gray;margin: 0 0.4em 0.5em 0.4em;box-sizing: border-box;padding-bottom: 0.4em;background-color: white;}#sk-container-id-4 div.sk-label label {font-family: monospace;font-weight: bold;display: inline-block;line-height: 1.2em;}#sk-container-id-4 div.sk-label-container {text-align: center;}#sk-container-id-4 div.sk-container {/* jupyter's `normalize.less` sets `[hidden] { display: none; }` but bootstrap.min.css set `[hidden] { display: none !important; }` so we also need the `!important` here to be able to override the default hidden behavior on the sphinx rendered scikit-learn.org. See: https://github.com/scikit-learn/scikit-learn/issues/21755 */display: inline-block !important;position: relative;}#sk-container-id-4 div.sk-text-repr-fallback {display: none;}</style><div id=\"sk-container-id-4\" class=\"sk-top-container\"><div class=\"sk-text-repr-fallback\"><pre>GridSearchCV(cv=10, estimator=BaggingRegressor(bootstrap_features=True),\n             param_grid={&#x27;n_estimators&#x27;: range(2, 20)})</pre><b>In a Jupyter environment, please rerun this cell to show the HTML representation or trust the notebook. <br />On GitHub, the HTML representation is unable to render, please try loading this page with nbviewer.org.</b></div><div class=\"sk-container\" hidden><div class=\"sk-item sk-dashed-wrapped\"><div class=\"sk-label-container\"><div class=\"sk-label sk-toggleable\"><input class=\"sk-toggleable__control sk-hidden--visually\" id=\"sk-estimator-id-4\" type=\"checkbox\" ><label for=\"sk-estimator-id-4\" class=\"sk-toggleable__label sk-toggleable__label-arrow\">GridSearchCV</label><div class=\"sk-toggleable__content\"><pre>GridSearchCV(cv=10, estimator=BaggingRegressor(bootstrap_features=True),\n             param_grid={&#x27;n_estimators&#x27;: range(2, 20)})</pre></div></div></div><div class=\"sk-parallel\"><div class=\"sk-parallel-item\"><div class=\"sk-item\"><div class=\"sk-label-container\"><div class=\"sk-label sk-toggleable\"><input class=\"sk-toggleable__control sk-hidden--visually\" id=\"sk-estimator-id-5\" type=\"checkbox\" ><label for=\"sk-estimator-id-5\" class=\"sk-toggleable__label sk-toggleable__label-arrow\">estimator: BaggingRegressor</label><div class=\"sk-toggleable__content\"><pre>BaggingRegressor(bootstrap_features=True)</pre></div></div></div><div class=\"sk-serial\"><div class=\"sk-item\"><div class=\"sk-estimator sk-toggleable\"><input class=\"sk-toggleable__control sk-hidden--visually\" id=\"sk-estimator-id-6\" type=\"checkbox\" ><label for=\"sk-estimator-id-6\" class=\"sk-toggleable__label sk-toggleable__label-arrow\">BaggingRegressor</label><div class=\"sk-toggleable__content\"><pre>BaggingRegressor(bootstrap_features=True)</pre></div></div></div></div></div></div></div></div></div></div>"
     },
     "execution_count": 18,
     "metadata": {},
     "output_type": "execute_result"
    }
   ],
   "source": [
    "bag_cv_model.fit(X_train, y_train)"
   ],
   "metadata": {
    "collapsed": false
   }
  },
  {
   "cell_type": "code",
   "execution_count": 19,
   "outputs": [
    {
     "data": {
      "text/plain": "{'n_estimators': 14}"
     },
     "execution_count": 19,
     "metadata": {},
     "output_type": "execute_result"
    }
   ],
   "source": [
    "bag_cv_model.best_params_"
   ],
   "metadata": {
    "collapsed": false
   }
  },
  {
   "cell_type": "code",
   "execution_count": 20,
   "outputs": [],
   "source": [
    "bag_tuned = BaggingRegressor( n_estimators = 14, random_state = 45)"
   ],
   "metadata": {
    "collapsed": false
   }
  },
  {
   "cell_type": "code",
   "execution_count": 21,
   "outputs": [
    {
     "data": {
      "text/plain": "BaggingRegressor(n_estimators=14, random_state=45)",
      "text/html": "<style>#sk-container-id-5 {color: black;background-color: white;}#sk-container-id-5 pre{padding: 0;}#sk-container-id-5 div.sk-toggleable {background-color: white;}#sk-container-id-5 label.sk-toggleable__label {cursor: pointer;display: block;width: 100%;margin-bottom: 0;padding: 0.3em;box-sizing: border-box;text-align: center;}#sk-container-id-5 label.sk-toggleable__label-arrow:before {content: \"▸\";float: left;margin-right: 0.25em;color: #696969;}#sk-container-id-5 label.sk-toggleable__label-arrow:hover:before {color: black;}#sk-container-id-5 div.sk-estimator:hover label.sk-toggleable__label-arrow:before {color: black;}#sk-container-id-5 div.sk-toggleable__content {max-height: 0;max-width: 0;overflow: hidden;text-align: left;background-color: #f0f8ff;}#sk-container-id-5 div.sk-toggleable__content pre {margin: 0.2em;color: black;border-radius: 0.25em;background-color: #f0f8ff;}#sk-container-id-5 input.sk-toggleable__control:checked~div.sk-toggleable__content {max-height: 200px;max-width: 100%;overflow: auto;}#sk-container-id-5 input.sk-toggleable__control:checked~label.sk-toggleable__label-arrow:before {content: \"▾\";}#sk-container-id-5 div.sk-estimator input.sk-toggleable__control:checked~label.sk-toggleable__label {background-color: #d4ebff;}#sk-container-id-5 div.sk-label input.sk-toggleable__control:checked~label.sk-toggleable__label {background-color: #d4ebff;}#sk-container-id-5 input.sk-hidden--visually {border: 0;clip: rect(1px 1px 1px 1px);clip: rect(1px, 1px, 1px, 1px);height: 1px;margin: -1px;overflow: hidden;padding: 0;position: absolute;width: 1px;}#sk-container-id-5 div.sk-estimator {font-family: monospace;background-color: #f0f8ff;border: 1px dotted black;border-radius: 0.25em;box-sizing: border-box;margin-bottom: 0.5em;}#sk-container-id-5 div.sk-estimator:hover {background-color: #d4ebff;}#sk-container-id-5 div.sk-parallel-item::after {content: \"\";width: 100%;border-bottom: 1px solid gray;flex-grow: 1;}#sk-container-id-5 div.sk-label:hover label.sk-toggleable__label {background-color: #d4ebff;}#sk-container-id-5 div.sk-serial::before {content: \"\";position: absolute;border-left: 1px solid gray;box-sizing: border-box;top: 0;bottom: 0;left: 50%;z-index: 0;}#sk-container-id-5 div.sk-serial {display: flex;flex-direction: column;align-items: center;background-color: white;padding-right: 0.2em;padding-left: 0.2em;position: relative;}#sk-container-id-5 div.sk-item {position: relative;z-index: 1;}#sk-container-id-5 div.sk-parallel {display: flex;align-items: stretch;justify-content: center;background-color: white;position: relative;}#sk-container-id-5 div.sk-item::before, #sk-container-id-5 div.sk-parallel-item::before {content: \"\";position: absolute;border-left: 1px solid gray;box-sizing: border-box;top: 0;bottom: 0;left: 50%;z-index: -1;}#sk-container-id-5 div.sk-parallel-item {display: flex;flex-direction: column;z-index: 1;position: relative;background-color: white;}#sk-container-id-5 div.sk-parallel-item:first-child::after {align-self: flex-end;width: 50%;}#sk-container-id-5 div.sk-parallel-item:last-child::after {align-self: flex-start;width: 50%;}#sk-container-id-5 div.sk-parallel-item:only-child::after {width: 0;}#sk-container-id-5 div.sk-dashed-wrapped {border: 1px dashed gray;margin: 0 0.4em 0.5em 0.4em;box-sizing: border-box;padding-bottom: 0.4em;background-color: white;}#sk-container-id-5 div.sk-label label {font-family: monospace;font-weight: bold;display: inline-block;line-height: 1.2em;}#sk-container-id-5 div.sk-label-container {text-align: center;}#sk-container-id-5 div.sk-container {/* jupyter's `normalize.less` sets `[hidden] { display: none; }` but bootstrap.min.css set `[hidden] { display: none !important; }` so we also need the `!important` here to be able to override the default hidden behavior on the sphinx rendered scikit-learn.org. See: https://github.com/scikit-learn/scikit-learn/issues/21755 */display: inline-block !important;position: relative;}#sk-container-id-5 div.sk-text-repr-fallback {display: none;}</style><div id=\"sk-container-id-5\" class=\"sk-top-container\"><div class=\"sk-text-repr-fallback\"><pre>BaggingRegressor(n_estimators=14, random_state=45)</pre><b>In a Jupyter environment, please rerun this cell to show the HTML representation or trust the notebook. <br />On GitHub, the HTML representation is unable to render, please try loading this page with nbviewer.org.</b></div><div class=\"sk-container\" hidden><div class=\"sk-item\"><div class=\"sk-estimator sk-toggleable\"><input class=\"sk-toggleable__control sk-hidden--visually\" id=\"sk-estimator-id-7\" type=\"checkbox\" checked><label for=\"sk-estimator-id-7\" class=\"sk-toggleable__label sk-toggleable__label-arrow\">BaggingRegressor</label><div class=\"sk-toggleable__content\"><pre>BaggingRegressor(n_estimators=14, random_state=45)</pre></div></div></div></div></div>"
     },
     "execution_count": 21,
     "metadata": {},
     "output_type": "execute_result"
    }
   ],
   "source": [
    "bag_tuned.fit(X_train, y_train)"
   ],
   "metadata": {
    "collapsed": false
   }
  },
  {
   "cell_type": "code",
   "execution_count": 22,
   "outputs": [],
   "source": [
    "y_pred = bag_tuned.predict(X_test)"
   ],
   "metadata": {
    "collapsed": false
   }
  },
  {
   "cell_type": "code",
   "execution_count": 23,
   "outputs": [
    {
     "data": {
      "text/plain": "347.50463424981314"
     },
     "execution_count": 23,
     "metadata": {},
     "output_type": "execute_result"
    }
   ],
   "source": [
    "np.sqrt(mean_squared_error(y_test, y_pred))"
   ],
   "metadata": {
    "collapsed": false
   }
  },
  {
   "cell_type": "code",
   "execution_count": null,
   "outputs": [],
   "source": [],
   "metadata": {
    "collapsed": false
   }
  }
 ],
 "metadata": {
  "kernelspec": {
   "display_name": "Python 3",
   "language": "python",
   "name": "python3"
  },
  "language_info": {
   "codemirror_mode": {
    "name": "ipython",
    "version": 2
   },
   "file_extension": ".py",
   "mimetype": "text/x-python",
   "name": "python",
   "nbconvert_exporter": "python",
   "pygments_lexer": "ipython2",
   "version": "2.7.6"
  }
 },
 "nbformat": 4,
 "nbformat_minor": 0
}
